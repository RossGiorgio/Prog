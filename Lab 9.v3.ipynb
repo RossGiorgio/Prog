{
 "metadata": {
  "kernelspec": {
   "display_name": "Python [default]",
   "language": "python",
   "name": "python3"
  },
  "language_info": {
   "codemirror_mode": {
    "name": "ipython",
    "version": 3
   },
   "file_extension": ".py",
   "mimetype": "text/x-python",
   "name": "python",
   "nbconvert_exporter": "python",
   "pygments_lexer": "ipython3",
   "version": "3.5.3"
  },
  "name": ""
 },
 "nbformat": 3,
 "nbformat_minor": 0,
 "worksheets": [
  {
   "cells": [
    {
     "cell_type": "markdown",
     "metadata": {},
     "source": [
      "# Strutture dati gerarchiche\n",
      "Abbiamo visto come una coppia permette di ottenere un unico dato aggregato partendo da due dati primitivi.\n",
      "\n",
      "Concettualmente, una coppia viene rappresentata in modo diretto usando una raffigurazione *box-and-pointer* (VEDI SLIDES). Per una coppia in pratica abbiamo un doppio box di \"puntatori\", ognuno che \"punta\" ad uno dei due dati primitivi.\n",
      "\n",
      "La coppia pu\u00f2 essere definita anche in termini di se stessa: possiamo avere una coppia di coppie:"
     ]
    },
    {
     "cell_type": "code",
     "collapsed": true,
     "input": [
      "a = ((1,2), (3,4))"
     ],
     "language": "python",
     "metadata": {},
     "outputs": [],
     "prompt_number": null
    },
    {
     "cell_type": "code",
     "collapsed": false,
     "input": [
      "print(a)"
     ],
     "language": "python",
     "metadata": {},
     "outputs": [],
     "prompt_number": null
    },
    {
     "cell_type": "code",
     "collapsed": false,
     "input": [
      "print(a[0])"
     ],
     "language": "python",
     "metadata": {},
     "outputs": [],
     "prompt_number": null
    },
    {
     "cell_type": "markdown",
     "metadata": {},
     "source": [
      "La possibilit\u00e0 di definire coppie i cui elementi sono delle coppie \u00e8 essenziale per poter rappresentare una **LISTA** di dati, in cui ciascun elemento della lista pu\u00f2 essere lui stesso una lista."
     ]
    },
    {
     "cell_type": "markdown",
     "metadata": {},
     "source": [
      "Una delle strutture dati pi\u00f9 utilizzata che possiamo costruire a partire dalle coppie \u00e8 quella di **SEQUENZA**, ovvero di una collezione ordinata di dati. Ovviamente, possiamo avere molti modi di rappresentare una sequenza di numeri in termini di coppie, e il modo pi\u00f9 semplice \u00e8 quello di usare una *catena di coppie*, in cui l'ultima coppia ha come secondo elemento un **simbolo** che rappresenta un valore il cui significato \u00e8 di segnalare la fine della lista."
     ]
    },
    {
     "cell_type": "code",
     "collapsed": true,
     "input": [
      "Ls = (1, (2, (3, (4, None))))"
     ],
     "language": "python",
     "metadata": {},
     "outputs": [],
     "prompt_number": null
    },
    {
     "cell_type": "markdown",
     "metadata": {},
     "source": [
      "La sequenza di numeri ordinati in `Ls` \u00e8 comunemente chiamata una *lista*. Il termine *lista* in base al linguaggio di programmazione usato potrebbe introdurre alcune ambiguit\u00e0 che vedremo pi\u00f9 avanti."
     ]
    },
    {
     "cell_type": "markdown",
     "metadata": {},
     "source": [
      "**ESEMPIO:** Procedura che restituisce una lista di numeri naturali da 1 a $n$."
     ]
    },
    {
     "cell_type": "code",
     "collapsed": true,
     "input": [
      "def MakeList(n):\n",
      "    def MakeI(a):\n",
      "        if a == n:\n",
      "            return (a, None)\n",
      "        return (a, MakeI(a+1)) \n",
      "    return MakeI(1)"
     ],
     "language": "python",
     "metadata": {},
     "outputs": [],
     "prompt_number": null
    },
    {
     "cell_type": "code",
     "collapsed": false,
     "input": [
      "print(MakeList(5))"
     ],
     "language": "python",
     "metadata": {},
     "outputs": [],
     "prompt_number": null
    },
    {
     "cell_type": "markdown",
     "metadata": {},
     "source": [
      "Il valore `None` in questo contesto pu\u00f2 essere pensato come ad una sequenza di nessun elemento, ovvero una lista vuota.\n",
      "\n",
      "Essendo una lista una catena di coppie, possiamo sempre usare i *selettori* di una coppia per accedere a quella che viene chiamata la testa (head) e la coda (tail) di una lista:"
     ]
    },
    {
     "cell_type": "code",
     "collapsed": false,
     "input": [
      "def Head(Ls):\n",
      "    return Ls[0]\n",
      "\n",
      "def Tail(Ls):\n",
      "    return Ls[1]\n",
      "\n",
      "Ls = MakeList(5)\n",
      "print(\"head:\", Head(Ls))\n",
      "print(\"tail:\", Tail(Ls))"
     ],
     "language": "python",
     "metadata": {},
     "outputs": [],
     "prompt_number": null
    },
    {
     "cell_type": "markdown",
     "metadata": {},
     "source": [
      "### Operazioni su lista\n",
      "Per poter utilizzare le lista bisogna definire delle operazioni utili, prima tra tutte la possibilit\u00e0 di accedere all'ennesimo elemento di una lista.\n",
      "\n",
      "**ESERCIZIO 9.1:** Scrivere una procedura chiamata `Nth(Ls, i)` che prende in input una lista `Ls` e numero intero `i` e restituisce l'$i$-esimo elemento della lista."
     ]
    },
    {
     "cell_type": "code",
     "collapsed": true,
     "input": [
      "# Completare"
     ],
     "language": "python",
     "metadata": {},
     "outputs": [],
     "prompt_number": null
    },
    {
     "cell_type": "markdown",
     "metadata": {},
     "source": [
      "**ESERCIZIO 9.2:** Scrivere una procedura che calcola la lunghezza di una lista."
     ]
    },
    {
     "cell_type": "code",
     "collapsed": true,
     "input": [
      "# Completare"
     ],
     "language": "python",
     "metadata": {},
     "outputs": [],
     "prompt_number": null
    },
    {
     "cell_type": "markdown",
     "metadata": {},
     "source": [
      "**ESERCIZIO 9.3:** Scrivere una procedura che prende in input due liste, e restituisce un'unica lista che contiene prima tutti gli elementi della prima lista, e poi quella della seconda lista."
     ]
    },
    {
     "cell_type": "code",
     "collapsed": true,
     "input": [
      "# Completare"
     ],
     "language": "python",
     "metadata": {},
     "outputs": [],
     "prompt_number": null
    },
    {
     "cell_type": "markdown",
     "metadata": {},
     "source": [
      "**ESERCIZIO 9.4:** Scrivere una procedura che prende in input una lista e restituisce la stessa lista ma con l'ordine degli elementi invertiti. Esempio: la lista (1,(2,(3,None))) diventa (3, (2, (1, None)))."
     ]
    },
    {
     "cell_type": "code",
     "collapsed": true,
     "input": [
      "# Completare"
     ],
     "language": "python",
     "metadata": {},
     "outputs": [],
     "prompt_number": null
    }
   ],
   "metadata": {}
  }
 ]
}
