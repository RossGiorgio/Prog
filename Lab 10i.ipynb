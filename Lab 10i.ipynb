{
 "cells": [
  {
   "cell_type": "markdown",
   "metadata": {},
   "source": [
    "# Tipi di dati e funzioni primitive di Python\n",
    "\n",
    "## Dati primitivi\n",
    "Sino a questo punto del corso abbiamo usato essenzialmente quattro tipi di dati primitivi:\n",
    "\n",
    "* `int`: numeri interi\n",
    "* `float`: numeri \"con la virgola\" (più precisamente in \"virgola mobile\" con precisione numerica a 64 bit)\n",
    "* `bool`: i valori logici True e False\n",
    "* `NoneType`: è il tipo associato alla parola chiave `None` che abbiamo usato come simbolo di fine lista\n",
    "\n",
    "Durante l'esecuzione di un programma è sempre possibile controllare il tipo di dato di un oggetto o di una variabile usando la funzione primitiva (o **builtin**) `type`.\n",
    "\n",
    "**ESEMPIO:**"
   ]
  },
  {
   "cell_type": "code",
   "execution_count": null,
   "metadata": {
    "collapsed": false
   },
   "outputs": [],
   "source": [
    "a = 3\n",
    "print(type(a))"
   ]
  },
  {
   "cell_type": "code",
   "execution_count": null,
   "metadata": {
    "collapsed": false
   },
   "outputs": [],
   "source": [
    "b = 3.2\n",
    "print(type(b))"
   ]
  },
  {
   "cell_type": "code",
   "execution_count": null,
   "metadata": {
    "collapsed": false
   },
   "outputs": [],
   "source": [
    "c = a == b\n",
    "print(c, type(c))"
   ]
  },
  {
   "cell_type": "code",
   "execution_count": null,
   "metadata": {
    "collapsed": false
   },
   "outputs": [],
   "source": [
    "print(type(None))"
   ]
  },
  {
   "cell_type": "markdown",
   "metadata": {},
   "source": [
    "Tuttavia, in Python i tipi delle variabili sono definiti durante l'esecuzione di un programma (si dice a \"runtime\"), e i risultati di operazioni tra tipi diversi sono possibili attraverso delle conversioni di tipi implicite.\n",
    "\n",
    "**ESEMPIO:**"
   ]
  },
  {
   "cell_type": "code",
   "execution_count": null,
   "metadata": {
    "collapsed": false
   },
   "outputs": [],
   "source": [
    "print(type(a), type(b), type(a/b))"
   ]
  },
  {
   "cell_type": "code",
   "execution_count": null,
   "metadata": {
    "collapsed": false
   },
   "outputs": [],
   "source": [
    "print(type(c), type(c+1))"
   ]
  },
  {
   "cell_type": "markdown",
   "metadata": {},
   "source": [
    "Quando un tipo di dati viene convertito ad un altro tipo di dati si effettua un **cast**."
   ]
  },
  {
   "cell_type": "markdown",
   "metadata": {},
   "source": [
    "## Le stringhe\n",
    "Per rappresentare una sequenza di caratteri possiamo usare un oggetto di tipo **stringa**, ovvero un dato composto di tipo `str`.\n",
    "\n",
    "I **costruttori** per le stringhe sono:\n",
    "\n",
    "```\n",
    "s1 = ''\n",
    "s2 = \"\"\n",
    "s3 = str()\n",
    "s4 = 'ciao'\n",
    "```\n",
    "\n",
    "Per esempio, possiamo scrivere:"
   ]
  },
  {
   "cell_type": "code",
   "execution_count": null,
   "metadata": {
    "collapsed": true
   },
   "outputs": [],
   "source": [
    "a = \"Vorrei, ma non posto!\""
   ]
  },
  {
   "cell_type": "code",
   "execution_count": null,
   "metadata": {
    "collapsed": false
   },
   "outputs": [],
   "source": [
    "print(a)"
   ]
  },
  {
   "cell_type": "code",
   "execution_count": null,
   "metadata": {
    "collapsed": false
   },
   "outputs": [],
   "source": [
    "print(type(a))"
   ]
  },
  {
   "cell_type": "markdown",
   "metadata": {},
   "source": [
    "Attenzione che una stringa è una semplice sequenza di caratteri:"
   ]
  },
  {
   "cell_type": "code",
   "execution_count": null,
   "metadata": {
    "collapsed": false
   },
   "outputs": [],
   "source": [
    "a = '123'\n",
    "b = '321'\n",
    "c = a + b\n",
    "d = 3 * a"
   ]
  },
  {
   "cell_type": "code",
   "execution_count": null,
   "metadata": {
    "collapsed": false
   },
   "outputs": [],
   "source": [
    "type(c)"
   ]
  },
  {
   "cell_type": "markdown",
   "metadata": {},
   "source": [
    "Quanto vale la variabile `c`?"
   ]
  },
  {
   "cell_type": "code",
   "execution_count": null,
   "metadata": {
    "collapsed": false
   },
   "outputs": [],
   "source": [
    "print('Valore:', c, '- Tipo:', type(c))"
   ]
  },
  {
   "cell_type": "code",
   "execution_count": null,
   "metadata": {
    "collapsed": false
   },
   "outputs": [],
   "source": [
    "print('Valore:', d, '- Tipo:', type(d))"
   ]
  },
  {
   "cell_type": "markdown",
   "metadata": {},
   "source": [
    "Gli operatori aritmetici sono stati ridefiniti per i dati di tipo stringa in modo tale che:\n",
    "\n",
    "1. l'operatore di somma effettua la CONCATENAZIONE di due stringhe\n",
    "2. l'operatore di moltiplicazione, se richiamato con un intero $n$ e una stringa, RIPETE (o concatena) la stringa $n$ volte.\n",
    "\n",
    "In questi due casi, in termini tecnici si dice che l'operatore è **overloaded**: funziona in modo diverso in base al tipo di dati che gli viene passato.\n",
    "\n",
    "NOTA: Se si utilizza l'operatore di moltiplicazione tra due stringhe, o si utilizza un qualsiasi operatore aritmetico che non è stato ridefinito, si ottiene un `TypeError`:"
   ]
  },
  {
   "cell_type": "code",
   "execution_count": null,
   "metadata": {
    "collapsed": false
   },
   "outputs": [],
   "source": [
    "a*b"
   ]
  },
  {
   "cell_type": "code",
   "execution_count": null,
   "metadata": {
    "collapsed": false
   },
   "outputs": [],
   "source": [
    "a-b"
   ]
  },
  {
   "cell_type": "markdown",
   "metadata": {},
   "source": [
    "Il controllo dei tipi degli oggetti viene chiamato **Type Checking** e dipende dal [Type System](https://en.wikipedia.org/wiki/Type_system) definito dal linguaggio di programmazione in uso. Il type system di Python viene chiamato *dinamico* in quanto controllo i tipi degli oggetti durante l'esecuzione dei programmi, e non è necessario specificare il tipo di dati direttamente nel codice."
   ]
  },
  {
   "cell_type": "markdown",
   "metadata": {},
   "source": [
    "Le stringhe sono uno dei diversi tipi di dati di Python che rappresentano delle **SEQUENZE** (in questo caso sequenze di caratteri). Alcune operazioni sono comuni per tutti i tipi di sequenze:\n",
    "\n",
    "* Si può usare la funzione `len(X)` che prende in input una sequenza e restituisce la lunghezza della sequenza. Esempio: `len('abc')` è pari a 3.\n",
    "* Gli elementi della sequenza possono essere **indicizzati** (in modo simile all'uso della funzione `Nth` vista nell'esercitazione 3). Il primo elemento della sequenza ha indice 0. Se si usa un numero negativo, si inizia a contare dalla fine della sequenza."
   ]
  },
  {
   "cell_type": "code",
   "execution_count": null,
   "metadata": {
    "collapsed": false
   },
   "outputs": [],
   "source": [
    "'abc'[0]"
   ]
  },
  {
   "cell_type": "code",
   "execution_count": null,
   "metadata": {
    "collapsed": false
   },
   "outputs": [],
   "source": [
    "'abc'[-1]"
   ]
  },
  {
   "cell_type": "markdown",
   "metadata": {},
   "source": [
    "* È possibile estrarre delle sotto sequenze con un'operazione di *slicing*. Se `s` è una stringa, l'espressione `s[start:end]` restituisce la sotto stringa di `s` che inizia all'indice `start` e termina all'indice `end-1`."
   ]
  },
  {
   "cell_type": "code",
   "execution_count": null,
   "metadata": {
    "collapsed": false
   },
   "outputs": [],
   "source": [
    "a = \"Vorrei, ma non posto!\"\n",
    "print(a[8:14])"
   ]
  },
  {
   "cell_type": "markdown",
   "metadata": {},
   "source": [
    "Il secondo indice `end` non è compreso in modo tale che l'espressione `s[0:len(s)]` abbia il valore che uno si aspetta. Quest'ultima espressione è equivalente a `s[:]`. \n",
    "\n",
    "Se il primo indice viene omesso, di default assume il valore 0."
   ]
  },
  {
   "cell_type": "code",
   "execution_count": null,
   "metadata": {
    "collapsed": false
   },
   "outputs": [],
   "source": [
    "a[:6]"
   ]
  },
  {
   "cell_type": "markdown",
   "metadata": {},
   "source": [
    "Se il secondo indice viene omesso, prende il valore di default `len(s)`."
   ]
  },
  {
   "cell_type": "code",
   "execution_count": null,
   "metadata": {
    "collapsed": false
   },
   "outputs": [],
   "source": [
    "a[1:]"
   ]
  },
  {
   "cell_type": "markdown",
   "metadata": {},
   "source": [
    "* Per le sequenze è possibile controllare se un elemento appartiene ad una sequenza usando la sintassi: `<elemento> in <sequenza>` che è un predicato che restituisce True o False:"
   ]
  },
  {
   "cell_type": "code",
   "execution_count": null,
   "metadata": {
    "collapsed": false
   },
   "outputs": [],
   "source": [
    "'z' in a"
   ]
  },
  {
   "cell_type": "code",
   "execution_count": null,
   "metadata": {
    "collapsed": false
   },
   "outputs": [],
   "source": [
    "# Distingue le maiuscole (case sensitive)\n",
    "'v' in a"
   ]
  },
  {
   "cell_type": "code",
   "execution_count": null,
   "metadata": {
    "collapsed": false
   },
   "outputs": [],
   "source": [
    "'V' in a"
   ]
  },
  {
   "cell_type": "markdown",
   "metadata": {},
   "source": [
    "### Leggere stringhe in input\n",
    "È possibile prendere in input una stringa da tastiera usando il comando `input`:"
   ]
  },
  {
   "cell_type": "code",
   "execution_count": null,
   "metadata": {
    "collapsed": false
   },
   "outputs": [],
   "source": [
    "n = input(\"Quanti anni hai? \")"
   ]
  },
  {
   "cell_type": "code",
   "execution_count": null,
   "metadata": {
    "collapsed": false
   },
   "outputs": [],
   "source": [
    "print(n)"
   ]
  },
  {
   "cell_type": "code",
   "execution_count": null,
   "metadata": {
    "collapsed": false
   },
   "outputs": [],
   "source": [
    "type(n)"
   ]
  },
  {
   "cell_type": "markdown",
   "metadata": {},
   "source": [
    "È possibile anche leggere un file di testo e memorizzare tutto il suo contenuto in un'unica stringa usando i due comandi:\n",
    "\n",
    "* `filehandle = open(filename, mod, encoding)`: la funzione apre il file con nome \"filename\"  in modalità \"mod\" e restituisce un riferimento al file \"filehandle\". Le modalità di apertura di un file sono: 'r'=lettura, 'w'=scrittura, 'a'=aggiunta. Il tipo di encoding serve per specificare il formato del file di testo; per file che contengono caratteri speciali (i.e., le lettere accentate italiane) si consiglia di usare encoding \"utf-8\". Si consiglia di leggere la [documentazione completa di open](https://docs.python.org/3/library/functions.html#open).\n",
    "\n",
    "* `s = filehandle.read()`: legge tutto il file a cui fa riferimento `filehandle` e ne memorizza il contenuto nella stringa `s`.\n",
    "\n",
    "**ESEMPIO:** Si controlli di avere il file \"canzone.txt\" nella directory corrente (usare il comando `ls`), e si eseguano i comandi seguenti:"
   ]
  },
  {
   "cell_type": "code",
   "execution_count": null,
   "metadata": {
    "collapsed": false
   },
   "outputs": [],
   "source": [
    "fh = open('./canzone.txt', 'r', encoding=\"utf-8\")\n",
    "s = fh.read()\n",
    "print(s)"
   ]
  },
  {
   "cell_type": "code",
   "execution_count": null,
   "metadata": {
    "collapsed": false
   },
   "outputs": [],
   "source": [
    "print(len(s.split(' ')))"
   ]
  },
  {
   "cell_type": "code",
   "execution_count": null,
   "metadata": {
    "collapsed": false
   },
   "outputs": [],
   "source": [
    "print(s.replace('\\n','').split(' '))"
   ]
  },
  {
   "cell_type": "code",
   "execution_count": null,
   "metadata": {
    "collapsed": false
   },
   "outputs": [],
   "source": [
    "print(s.lower().replace('\\n','').split(' '))"
   ]
  },
  {
   "cell_type": "markdown",
   "metadata": {},
   "source": [
    "In Python è anche molto semplice leggere delle pagine web e memorizzarle in una stringa. Per fare questo si deve usare la libreria `urllib.request` nel modo seguente:"
   ]
  },
  {
   "cell_type": "code",
   "execution_count": null,
   "metadata": {
    "collapsed": false
   },
   "outputs": [],
   "source": [
    "import urllib.request\n",
    "with urllib.request.urlopen('http://matematica.unipv.it/gualandi/programming/') as response:\n",
    "   pagina_corso = str(response.read())\n",
    "\n",
    "print(pagina_corso.split(' '))"
   ]
  },
  {
   "cell_type": "markdown",
   "metadata": {},
   "source": [
    "Per maggiori dettagli per la lettura di pagine web, si consiglia leggere la documentazione della libraria [urllib](https://docs.python.org/3/howto/urllib2.html)."
   ]
  },
  {
   "cell_type": "markdown",
   "metadata": {},
   "source": [
    "### Definizione di procedure su stringhe"
   ]
  },
  {
   "cell_type": "markdown",
   "metadata": {},
   "source": [
    "**ESERCIZIO:** Scrivere una funzione che prende in input una stringa e stampi a video un carattere alla volta."
   ]
  },
  {
   "cell_type": "code",
   "execution_count": null,
   "metadata": {
    "collapsed": false
   },
   "outputs": [],
   "source": [
    "def SinglePrint(s):\n",
    "    if len(s) > 0:\n",
    "        head, tail = s[0], s[1:]\n",
    "        print(head, end=' # ')\n",
    "        SinglePrint(tail)\n",
    "\n",
    "SinglePrint('abcde')"
   ]
  },
  {
   "cell_type": "code",
   "execution_count": null,
   "metadata": {
    "collapsed": false
   },
   "outputs": [],
   "source": [
    "def SinglePrint2(s):\n",
    "    def Helper(i, n):\n",
    "        if i < n:\n",
    "            print(s[i], end=' # ')\n",
    "            Helper(i+1, n)\n",
    "    Helper(0, len(s))\n",
    "SinglePrint2(a)"
   ]
  },
  {
   "cell_type": "markdown",
   "metadata": {},
   "source": [
    "Per semplificare la scrittura di procedure che devono essere applicate a ciascun elemento di una sequenza si introduce la **SINTASSI** seguente:\n",
    "\n",
    "```\n",
    "for <elemento> in <sequenza>:\n",
    "    <body>  # in cui si usa l'elemento\n",
    "```\n",
    "\n",
    "e quindi possiamo scrivere:"
   ]
  },
  {
   "cell_type": "code",
   "execution_count": null,
   "metadata": {
    "collapsed": false
   },
   "outputs": [],
   "source": [
    "for c in 'abcde':\n",
    "    print(c, end=' # ')"
   ]
  },
  {
   "cell_type": "markdown",
   "metadata": {},
   "source": [
    "**NOTA:** Il comando `print` ha due parametri opzionali:\n",
    "\n",
    "1. `end`: specifica il carattere da usare per terminare la stampa della stringa. Di default è uguale al carattere di ritorno a capo `\\n`.\n",
    "2. `sep`: specifica il carattere da usare per separare più stringhe. Di default è uguale ad uno spazio."
   ]
  },
  {
   "cell_type": "code",
   "execution_count": null,
   "metadata": {
    "collapsed": false
   },
   "outputs": [],
   "source": [
    "print('uno','due','tre', sep='-->', end='!!!')"
   ]
  },
  {
   "cell_type": "markdown",
   "metadata": {},
   "source": [
    "### Funzioni builtin per le stringhe\n",
    "I seguenti metodi sono tutti molto utili e restituiscono delle nuove stringhe lasciando la stringa iniziale immutata:\n",
    "\n",
    "* `s.count(s1)`: conta qualche volte la stringa `s1` è contenuta in `s`\n",
    "* `s.find(s1)`: restituisce l'indice della stringa `s` in cui ha trovato per la prima volta la stringa `s1`; altrimenti restituisce -1\n",
    "* `s.rfind(s1)`: come sopra, ma inizia dalla fine di `s` (la `r` sta per `reversed`)\n",
    "* `s.lower()`: converte tutte le lettere in minuscolo\n",
    "* `s.upper()`: converte tutte le lettere in maiuscolo\n",
    "* `s.replace(old,new)`: sostituisce tutte le sotto stringhe uguali a `old` in `s` con la stringa `new`\n",
    "* `s.strip()`: rimuove tutti i caratteri blanks iniziali e finali dalla stringa `s`\n",
    "* `s.strip()`: rimuove tutti i caratteri blanks finali dalla stringa `s`\n",
    "* `s.split(d)`: suddivide la stringa in sotto stringhe usando il carattere `d` come separatore"
   ]
  },
  {
   "cell_type": "code",
   "execution_count": null,
   "metadata": {
    "collapsed": false
   },
   "outputs": [],
   "source": [
    "'ciao'.upper()"
   ]
  },
  {
   "cell_type": "code",
   "execution_count": null,
   "metadata": {
    "collapsed": false
   },
   "outputs": [],
   "source": [
    "'  ciao - - '.rstrip()"
   ]
  },
  {
   "cell_type": "code",
   "execution_count": null,
   "metadata": {
    "collapsed": false
   },
   "outputs": [],
   "source": [
    "'  ciao - - '.strip()"
   ]
  },
  {
   "cell_type": "code",
   "execution_count": null,
   "metadata": {
    "collapsed": false
   },
   "outputs": [],
   "source": [
    "int('c')"
   ]
  },
  {
   "cell_type": "markdown",
   "metadata": {},
   "source": [
    "### Conversione di caratteri in interi e di interi in caratteri\n",
    "In Python non esiste un tipo di dati specifico per identificare un singolo carattere. Tuttavia è possibile convertire un carattere nel suo corrispondente [codice ASCII](https://en.wikipedia.org/wiki/ASCII) usando la funzione `ord(s)` in cui `s` è una stringa di lunghezza 1.\n",
    "\n",
    "**ESEMPIO:** Stampa a video dei codici ASCII per le lettere minuscole dell'alfabeto:"
   ]
  },
  {
   "cell_type": "code",
   "execution_count": null,
   "metadata": {
    "collapsed": false
   },
   "outputs": [],
   "source": [
    "for c in 'abcdefghijklmnopqrstuvwxyz'.upper():\n",
    "    print((c, ord(c)), end=', ')"
   ]
  },
  {
   "cell_type": "markdown",
   "metadata": {},
   "source": [
    "**ESERCIZIO:** Una [palindrome](https://it.wikipedia.org/wiki/Palindromo) è una sequenza di caratteri che si legge allo stesso modo in entrambi i sensi. Scrivere un predicato che prende in input una stringa e restituisce `True` se la stringa è una palindrome, e `False` altrimenti. Testare il predicato scritto con le stringhe seguenti."
   ]
  },
  {
   "cell_type": "code",
   "execution_count": null,
   "metadata": {
    "collapsed": true
   },
   "outputs": [],
   "source": [
    "s1 = \"aibofobia\"\n",
    "s2 = \"satorarepotenetoperarotas\"\n",
    "s3 = \"aiboifobia\""
   ]
  },
  {
   "cell_type": "markdown",
   "metadata": {},
   "source": [
    "## Le tuple\n",
    "Le tuple, come le stringhe, sono delle sequenze *non modificabili* di elementi. A differenza delle stringhe non abbiamo nessun vincolo particolare sul **tipo** degli elementi che appaiono nella sequenza, e possono anche essere tutti diversi tra loro.\n",
    "\n",
    "I metodi **costruttori** per le tuple sono:\n",
    "\n",
    "```\n",
    "t1 = ()\n",
    "t2 = tuple()\n",
    "t3 = (1, 2.3, 'cool!', False)\n",
    "```\n",
    "\n",
    "I **selettori** principali sono l'operatore di indicizzazione e quelle di slicing."
   ]
  },
  {
   "cell_type": "code",
   "execution_count": null,
   "metadata": {
    "collapsed": false
   },
   "outputs": [],
   "source": [
    "t = (1, 2.3, 'cool!', False)\n",
    "print(t)"
   ]
  },
  {
   "cell_type": "markdown",
   "metadata": {},
   "source": [
    "La \"coppia\" che abbiamo usato per costruire la nostra libreria `pairslist` è un caso particolare di tupla con lunghezza pari a due.\n",
    "\n",
    "Sulle tuple, essendo delle SEQUENZE, possiamo applicare gli stessi operatori di base che abbiamo visto per le stringhe:"
   ]
  },
  {
   "cell_type": "code",
   "execution_count": null,
   "metadata": {
    "collapsed": false
   },
   "outputs": [],
   "source": [
    "# Uso della funzione `len`\n",
    "print(len(t))"
   ]
  },
  {
   "cell_type": "code",
   "execution_count": null,
   "metadata": {
    "collapsed": false
   },
   "outputs": [],
   "source": [
    "# Accesso diretto ad un elemento\n",
    "print(t[2])"
   ]
  },
  {
   "cell_type": "code",
   "execution_count": null,
   "metadata": {
    "collapsed": false
   },
   "outputs": [],
   "source": [
    "# Gli operatori di slicing\n",
    "print(t[1:2])"
   ]
  },
  {
   "cell_type": "code",
   "execution_count": null,
   "metadata": {
    "collapsed": false
   },
   "outputs": [],
   "source": [
    "# Test di appartenenza\n",
    "print('c' in t)\n",
    "print('2.3' in t)"
   ]
  },
  {
   "cell_type": "code",
   "execution_count": null,
   "metadata": {
    "collapsed": false
   },
   "outputs": [],
   "source": [
    "# Supporto del costrutto <for>\n",
    "for e in t:\n",
    "    print(e)"
   ]
  },
  {
   "cell_type": "code",
   "execution_count": null,
   "metadata": {
    "collapsed": false
   },
   "outputs": [],
   "source": [
    "# Concatenazione\n",
    "t2 = ('prova', 'prova')\n",
    "print('concatenazione:', t+t2)"
   ]
  },
  {
   "cell_type": "code",
   "execution_count": null,
   "metadata": {
    "collapsed": false
   },
   "outputs": [],
   "source": [
    "# Repetition\n",
    "print('repetition:',t2*3)"
   ]
  },
  {
   "cell_type": "markdown",
   "metadata": {},
   "source": [
    "**NOTA:** Per definire una tuple di lunghezza pari a uno, ovvero di un singolo elemento, bisogna usare la strana sintassi `(1,)`: si noti la virgola dopo l'uno."
   ]
  },
  {
   "cell_type": "code",
   "execution_count": null,
   "metadata": {
    "collapsed": false
   },
   "outputs": [],
   "source": [
    "a=(1)\n",
    "b=(1,)\n",
    "print(type(a), type(b))"
   ]
  },
  {
   "cell_type": "markdown",
   "metadata": {},
   "source": [
    "**ESERCIZIO 2:** Scrivere una funzione che prende in input due tuple e restituisce una tupla che contiene gli elementi che sono sia nella prima che nella seconda tupla. Scrivere anche una funzione di test che comprenda qualche caso significativo."
   ]
  },
  {
   "cell_type": "code",
   "execution_count": null,
   "metadata": {
    "collapsed": false
   },
   "outputs": [],
   "source": [
    "def Intersect(As, Bs):\n",
    "    Rs = tuple()\n",
    "    # DA COMPLETARE COSTRUENDO Rs\n",
    "    return Rs\n",
    "\n",
    "def TestZero():\n",
    "    if Intersect((2,3,4,2,1,2,7), (2,3,2,3,4)) == (2, 3, 4):\n",
    "        return 'ok'\n",
    "    return 'failed'\n",
    "\n",
    "print('Test zero: '+TestZero())\n",
    "# Intersect((2,3,4,2,1,2,7), (2,3,2,3,4): (2, 3, 4)"
   ]
  },
  {
   "cell_type": "code",
   "execution_count": null,
   "metadata": {
    "collapsed": false
   },
   "outputs": [],
   "source": [
    "t[1]"
   ]
  },
  {
   "cell_type": "code",
   "execution_count": null,
   "metadata": {
    "collapsed": false
   },
   "outputs": [],
   "source": [
    "t[1] = 3"
   ]
  },
  {
   "cell_type": "code",
   "execution_count": null,
   "metadata": {
    "collapsed": false
   },
   "outputs": [],
   "source": [
    "'abcba'[2] = 'd'"
   ]
  },
  {
   "cell_type": "markdown",
   "metadata": {},
   "source": [
    "**NOTA:** Le stringhe e le tuple sono dei tipi i oggetto non modificabili, ovvero sono dei dati *read only*."
   ]
  },
  {
   "cell_type": "markdown",
   "metadata": {},
   "source": [
    "## Le liste\n",
    "Le **liste** di Python sono delle sequenze di elementi come le tuple, ma a differenza di quest'ultime, possono essere modificate. La sintassi per gestire le liste è simile a quelle delle tuple: la differenza principale consiste nell'usare le parentesi tonde invece delle quadre.\n",
    "\n",
    "I metodi **costruttori** per le liste sono:\n",
    "\n",
    "```\n",
    "L1 = []\n",
    "L2 = list()\n",
    "L3 = [1, 2.3, 'cool!', False]\n",
    "```\n",
    "\n",
    "Il **selettore** di una lista è l'operatore di indicizzazione che restituisce l'$i$-esimo elemento della lista. Si vedano gli esempi sotto."
   ]
  },
  {
   "cell_type": "code",
   "execution_count": null,
   "metadata": {
    "collapsed": false
   },
   "outputs": [],
   "source": [
    "Ls = [1, 2.3, 'cool!', False]\n",
    "print(type(Ls))"
   ]
  },
  {
   "cell_type": "code",
   "execution_count": null,
   "metadata": {
    "collapsed": true
   },
   "outputs": [],
   "source": [
    "Ls[1] = 33.3"
   ]
  },
  {
   "cell_type": "code",
   "execution_count": null,
   "metadata": {
    "collapsed": false
   },
   "outputs": [],
   "source": [
    "print(Ls)"
   ]
  },
  {
   "cell_type": "code",
   "execution_count": null,
   "metadata": {
    "collapsed": false
   },
   "outputs": [],
   "source": [
    "# Lista vuota\n",
    "print(len([]), type([]))"
   ]
  },
  {
   "cell_type": "markdown",
   "metadata": {},
   "source": [
    "Anche per le liste possiamo usare tutte le funzioni che vengono solitamente usate in Python per le sequenze di elementi:"
   ]
  },
  {
   "cell_type": "code",
   "execution_count": null,
   "metadata": {
    "collapsed": false
   },
   "outputs": [],
   "source": [
    "# Uso della funzione `len`\n",
    "print(len(Ls))\n",
    "# Accesso diretto ad un elemento\n",
    "print(Ls[2])\n",
    "# Gli operatori di slicing\n",
    "print(Ls[1:2])\n",
    "# Test di appartenenza\n",
    "print('c' in Ls)\n",
    "print('2.3' in Ls)\n",
    "# Supporto del costrutto <for>\n",
    "for e in Ls:\n",
    "    print(e)\n",
    "# Concatenazione\n",
    "L2 = ['prova', 'prova']\n",
    "print('concatenazione:', Ls+L2)\n",
    "# Repetition\n",
    "print('repetition:',L2*3)"
   ]
  },
  {
   "cell_type": "markdown",
   "metadata": {},
   "source": [
    "### Il problema di *aliasing*\n",
    "Si consideri l'esempio seguente, ripreso dal Capitolo 5 del libro di riferimento."
   ]
  },
  {
   "cell_type": "code",
   "execution_count": null,
   "metadata": {
    "collapsed": false
   },
   "outputs": [],
   "source": [
    "Techs = ['MIT', 'Caltech']\n",
    "Ivys = ['Harvard','Yale','Penn']\n",
    "U1 = [Techs, Ivys]\n",
    "U2 = [['MIT', 'Caltech'], ['Harvard','Yale','Penn']]\n",
    "print(U1 == U2)\n",
    "print(id(U1) == id(U2)) # la funzione id() restituisce l'identificativo unico di un oggetto Python"
   ]
  },
  {
   "cell_type": "code",
   "execution_count": null,
   "metadata": {
    "collapsed": false
   },
   "outputs": [],
   "source": [
    "Techs.append('Standford')\n",
    "print(U1 == U2)"
   ]
  },
  {
   "cell_type": "code",
   "execution_count": null,
   "metadata": {
    "collapsed": false
   },
   "outputs": [],
   "source": [
    "U1[0].remove('Standford')\n",
    "print(Techs)"
   ]
  },
  {
   "cell_type": "markdown",
   "metadata": {},
   "source": [
    "**NOTA:** abbiamo due percorsi diversi che portano allo stesso oggetto di tipo lista: il primo attraverso il nome della lista `Techs`, il secondo attraverso il primo elemento della lista `U1`.  Basta modificare uno dei due, che il cambiamento si riflette sull'altro: si parla in questo caso di **side effect**, in quanto si potrebbero introdurre degli effetti non desiderati, difficili da individuare. Notare che problemi di questo tipo non si hanno con strutture dati di tipo *read only*."
   ]
  },
  {
   "cell_type": "markdown",
   "metadata": {},
   "source": [
    "**ESERCIZIO 3:** (*obiettivo: intuire il vantaggio di poter avere anche oggi non mutabili*)\n",
    "\n",
    "Si scriva una funzione che prenda in input due **liste** e che rimuove dalla prima lista ogni elemento che compare nella seconda lista. La funzione non ritorna nulla, ma **modifica** la prima lista data in input. Si può usare il metodo `L.remove(e)` che rimuove dalla lista `L` il primo elemento uguale a `e`."
   ]
  },
  {
   "cell_type": "code",
   "execution_count": null,
   "metadata": {
    "collapsed": false
   },
   "outputs": [],
   "source": [
    "Ls = [2,3,4,1,5,1]\n",
    "Ls.remove(1)\n",
    "print(Ls)"
   ]
  },
  {
   "cell_type": "markdown",
   "metadata": {},
   "source": [
    "Completare la funzione seguente:"
   ]
  },
  {
   "cell_type": "code",
   "execution_count": null,
   "metadata": {
    "collapsed": false
   },
   "outputs": [],
   "source": [
    "def RimuoviDuplicati(As, Bs):\n",
    "    # DA COMPLETARE\n",
    "    pass\n",
    "\n",
    "L1 = [2, 4, 2, 5, 6, 6, 3, 2, 9, 4]\n",
    "L2 = [2, 4, 7]\n",
    "RimuoviDuplicati(L1, L2)\n",
    "print('L1 =', L1)"
   ]
  },
  {
   "cell_type": "markdown",
   "metadata": {},
   "source": [
    "### List comprehensions\n",
    "Quando abbiamo definito i plot di alcune semplici funzioni, abbiamo usato direttamente una sintassi di Python che permette di creare in modo molto semplice delle list: le **list comprehensions**. Esempi:"
   ]
  },
  {
   "cell_type": "code",
   "execution_count": null,
   "metadata": {
    "collapsed": true
   },
   "outputs": [],
   "source": [
    "S = [x**2 for x in range(10)]\n",
    "V = [2**i for i in range(13)]\n",
    "M = [x for x in S if x % 2 == 0]"
   ]
  },
  {
   "cell_type": "code",
   "execution_count": null,
   "metadata": {
    "collapsed": false
   },
   "outputs": [],
   "source": [
    "print(S)\n",
    "print(V)\n",
    "print(M)"
   ]
  },
  {
   "cell_type": "markdown",
   "metadata": {},
   "source": [
    "La stessa sintassi si può usare per le stringhe:"
   ]
  },
  {
   "cell_type": "code",
   "execution_count": null,
   "metadata": {
    "collapsed": false
   },
   "outputs": [],
   "source": [
    "Ls = \"Vorrei, ma non posto!\"\n",
    "Ls = Ls.split(' ')\n",
    "print(Ls)"
   ]
  },
  {
   "cell_type": "code",
   "execution_count": null,
   "metadata": {
    "collapsed": false
   },
   "outputs": [],
   "source": [
    "As = [(len(s), s.upper(), s.lower()) for s in Ls]\n",
    "print(As)"
   ]
  },
  {
   "cell_type": "markdown",
   "metadata": {},
   "source": [
    "## Dizionari\n",
    "I dizionari sono una struttura dati molto utilizzati in Python. Sono delle strutture dati che corrispondono a delle liste di coppie **(key, value)**. I dizionari sono degli oggetti **mutabili** come le liste, ma non sono una sequenza ordinata, e quindi non possono essere indicizzati con dei numeri interi, ma sono indicizzati utilizzando le loro chiavi.\n",
    "\n",
    "Per **costruire** un dizionario vuoto abbiamo due possibilità equivalenti (che corrispondono alla chiamata allo stesso **costruttore**):\n",
    "\n",
    "```\n",
    "D1 = {}\n",
    "D2 = dict()\n",
    "```\n",
    "Possiamo anche **costruire** un dizionario con dei valore iniziali:\n",
    "\n",
    "```\n",
    "Dict = {'a': 0, 'b': 1, 'c': 2}\n",
    "```\n",
    "\n",
    "La **key** viene utilizzata come chiave per indicizzare un **value**. Per esempio:\n",
    "\n",
    "`Dict[\"hello\"] = \"ciao\"`\n",
    "\n",
    "Abbiamo la chiave `hello` utilizzata per indicizzare l'elemento `ciao` nel dizionario `Dict`. Per semplicità, potete pensare ai dizionari a come dei vettori di elementi indicizzati da altri oggetti **immutabili**, come ad esempio delle stringhe o delle tuple.\n",
    "\n",
    "**ESEMPIO:**"
   ]
  },
  {
   "cell_type": "code",
   "execution_count": null,
   "metadata": {
    "collapsed": false
   },
   "outputs": [],
   "source": [
    "# Creo un dizionario vuoto\n",
    "Vocabolario = dict()\n",
    "print(type(Vocabolario))"
   ]
  },
  {
   "cell_type": "code",
   "execution_count": null,
   "metadata": {
    "collapsed": false
   },
   "outputs": [],
   "source": [
    "Vocabolario[\"keep\"] = \"stai\"\n",
    "Vocabolario[\"calm\"] = \"sereno\"\n",
    "print(\"Enrico,\", Vocabolario[\"keep\"], Vocabolario[\"calm\"])"
   ]
  },
  {
   "cell_type": "code",
   "execution_count": null,
   "metadata": {
    "collapsed": false
   },
   "outputs": [],
   "source": [
    "# E` possibile enumerare i dizionari con un ciclo for\n",
    "Vocabolario[\"hello\"] = \"ciao\"\n",
    "for key in Vocabolario:\n",
    "    print(\"chiave:\", key, \"- valore:\", Vocabolario[key])"
   ]
  },
  {
   "cell_type": "markdown",
   "metadata": {},
   "source": [
    "### Metodi utili sui dizionari\n",
    "I seguenti metodi sono molto utili per usare i dizionari:\n",
    "\n",
    "* `len(d)`: restituisce il numero di elementi nel dizionario `d`\n",
    "* `d.keys()`: restituisce una lista (vista) delle chiavi del dizionario `d`\n",
    "* `d.values()`: restituisce una lista (vista) dei valori del dizionario `d`\n",
    "* `key in d`: restituisce `True` se la chiave `key` è nel dizionario `d`\n",
    "* `d.get(key, value)`: restituisce `d[key]` se `key` è in `d`, altrimenti restituisce il valore `value`\n",
    "* `d[key] = value`: associa il valore `value` alla chiave `key` nel dizionario `d`\n",
    "* `del d[key]`: rimuove la chiave `k` dal dizionario `d`\n",
    "* `for key in d`: itera sulle chiavi del dizionario `d`"
   ]
  },
  {
   "cell_type": "markdown",
   "metadata": {},
   "source": [
    "**ESERCIZIO 4:** Per ogni carattere (stringa di lunghezza 1) della canzone contenuta nel file \"canzone.txt\", scrivere:\n",
    "\n",
    "1. Una funzione `PulisciTesto(s, blanks)` che restituisce una stringa in cui da `s` sono stati rimossi tutti gli elementi in `blanks`.\n",
    "\n",
    "2. una funzione `ContaCaratteri(c)` che conti il numero di volte che ciascun carattere appare nel testo e restituisce un dizionario dove si ha una \"chiave\" per ogni carattere e un \"valore\" pari al numero di volte che il carattere appare nella stringa. Rimuovere la punteggiatura, gli spazi vuoti, e i caratteri speciali. \n",
    "\n",
    "3. una funzione `CalcolaFrequenza(d)` che prende in input un dizionario con i conteggi dei caratteri, calcola la frequenza di ciascun carattere, e restituisce un dizionario dove si ha una \"chiave\" per ogni carattere e un \"valore\" pari alla frequenza con cui il carattere appare nel testo."
   ]
  },
  {
   "cell_type": "code",
   "execution_count": null,
   "metadata": {
    "collapsed": false
   },
   "outputs": [],
   "source": [
    "def PulisciTesto(s, blanks):\n",
    "    r = s[:]\n",
    "    for c in blanks:\n",
    "        r = r.replace(c,'')\n",
    "    return r\n",
    "\n",
    "def ContaCaratteri(s):    \n",
    "    D = {}          # Costruttore di un dizionario vuoto\n",
    "    for c in s:     # Ciclo su tutti caratteri della stringa\n",
    "        if c in D:\n",
    "            D[c] += 1\n",
    "        else:\n",
    "            D[c] = 1\n",
    "    return D\n",
    "\n",
    "def CalcolaFrequenza(D):\n",
    "    F = {}\n",
    "    # TODO: completare il dizionario F con le frequenze\n",
    "    return F\n",
    "\n",
    "fh = open('./canzone.txt', 'r', encoding=\"utf-8\")\n",
    "s = fh.read()\n",
    "# Pulisce la stringa letta\n",
    "s = PulisciTesto(s, ',?\\n”“ ’')\n",
    "print(ContaCaratteri(s.replace(',','').replace('?','').lower()))"
   ]
  },
  {
   "cell_type": "code",
   "execution_count": null,
   "metadata": {
    "collapsed": true
   },
   "outputs": [],
   "source": []
  }
 ],
 "metadata": {
  "kernelspec": {
   "display_name": "Python [default]",
   "language": "python",
   "name": "python3"
  },
  "language_info": {
   "codemirror_mode": {
    "name": "ipython",
    "version": 3
   },
   "file_extension": ".py",
   "mimetype": "text/x-python",
   "name": "python",
   "nbconvert_exporter": "python",
   "pygments_lexer": "ipython3",
   "version": "3.5.3"
  }
 },
 "nbformat": 4,
 "nbformat_minor": 2
}
