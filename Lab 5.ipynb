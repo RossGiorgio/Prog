{
 "cells": [
  {
   "cell_type": "markdown",
   "metadata": {},
   "source": [
    "# Funzioni di variabili reali a valori reali\n",
    "Vediamo in questo notebook come sia possibile riprodurre in Python i grafici di pagina 34 del libro Giaquinta-Modica, grafici che avete visto, o vedrete, nel corso di [Analisi 1](http://elearning1.unipv.it/matematica/course/view.php?id=10) (si veda su Kiro, per il corso di Analisi).\n",
    "\n",
    "Per prima cosa dobbiamo importare nel workspace due librerie:\n",
    "\n",
    "1. [Numpy](http://www.numpy.org/)\n",
    "2. [Matplotlib](https://matplotlib.org/)\n",
    "\n",
    "Come fatto nel primo laboratorio, per importare tutte le funzioni di una libreria esterna si usa il comando:\n",
    "\n",
    "```\n",
    "from <nome_libreria> import *\n",
    "```\n",
    "\n",
    "In questo modo, se al posto di `nome_libreria` mettiamo per esempio `numpy`, importeremo nel nostro workspace tutte le funzioni definite nella libreria `numpy`. Spesso, per tenere il workspace più pulito possibile (poche variabili, poche funzioni) si importano solo le funzioni della libreria che devono essere effettivamente usate.\n",
    "Nel nostro caso, dalle due librerie ci bastano importare la funzione `linspace` e l'oggetto `plot`:"
   ]
  },
  {
   "cell_type": "code",
   "execution_count": 2,
   "metadata": {
    "collapsed": false
   },
   "outputs": [],
   "source": [
    "# Importo dalla libreria solo gli oggetti che mi servono veramente\n",
    "from numpy import linspace\n",
    "from matplotlib.pyplot import plot, xlabel, ylabel, show"
   ]
  },
  {
   "cell_type": "markdown",
   "metadata": {},
   "source": [
    "Vediamo prima a cosa serve la funzione [linspace(a, b, n)](https://docs.scipy.org/doc/numpy-1.13.0/reference/generated/numpy.linspace.html). Questa funzione serve per ottenere una sequenza di $n$ numeri equidistanziati nell'intervallo $[a,b]$. Per esempio:"
   ]
  },
  {
   "cell_type": "code",
   "execution_count": 3,
   "metadata": {
    "collapsed": false
   },
   "outputs": [
    {
     "data": {
      "text/plain": [
       "array([  0. ,   0.5,   1. ,   1.5,   2. ,   2.5,   3. ,   3.5,   4. ,\n",
       "         4.5,   5. ,   5.5,   6. ,   6.5,   7. ,   7.5,   8. ,   8.5,\n",
       "         9. ,   9.5,  10. ])"
      ]
     },
     "execution_count": 3,
     "metadata": {},
     "output_type": "execute_result"
    }
   ],
   "source": [
    "linspace(0,10,21)"
   ]
  },
  {
   "cell_type": "markdown",
   "metadata": {},
   "source": [
    "In pratica, possiamo usare la funzione `linspace` per definire un dominio di una funzione come un insieme finito di punti in $\\mathbb{R}$. Se facciamo riferimento alla Figura 3.8 del Giaquinta-Modica, potremmo definire il dominio:"
   ]
  },
  {
   "cell_type": "code",
   "execution_count": 4,
   "metadata": {
    "collapsed": false
   },
   "outputs": [
    {
     "name": "stdout",
     "output_type": "stream",
     "text": [
      "[-2.         -1.995996   -1.99199199 -1.98798799 -1.98398398 -1.97997998\n",
      " -1.97597598 -1.97197197 -1.96796797 -1.96396396 -1.95995996 -1.95595596\n",
      " -1.95195195 -1.94794795 -1.94394394 -1.93993994 -1.93593594 -1.93193193\n",
      " -1.92792793 -1.92392392 -1.91991992 -1.91591592 -1.91191191 -1.90790791\n",
      " -1.9039039  -1.8998999  -1.8958959  -1.89189189 -1.88788789 -1.88388388\n",
      " -1.87987988 -1.87587588 -1.87187187 -1.86786787 -1.86386386 -1.85985986\n",
      " -1.85585586 -1.85185185 -1.84784785 -1.84384384 -1.83983984 -1.83583584\n",
      " -1.83183183 -1.82782783 -1.82382382 -1.81981982 -1.81581582 -1.81181181\n",
      " -1.80780781 -1.8038038  -1.7997998  -1.7957958  -1.79179179 -1.78778779\n",
      " -1.78378378 -1.77977978 -1.77577578 -1.77177177 -1.76776777 -1.76376376\n",
      " -1.75975976 -1.75575576 -1.75175175 -1.74774775 -1.74374374 -1.73973974\n",
      " -1.73573574 -1.73173173 -1.72772773 -1.72372372 -1.71971972 -1.71571572\n",
      " -1.71171171 -1.70770771 -1.7037037  -1.6996997  -1.6956957  -1.69169169\n",
      " -1.68768769 -1.68368368 -1.67967968 -1.67567568 -1.67167167 -1.66766767\n",
      " -1.66366366 -1.65965966 -1.65565566 -1.65165165 -1.64764765 -1.64364364\n",
      " -1.63963964 -1.63563564 -1.63163163 -1.62762763 -1.62362362 -1.61961962\n",
      " -1.61561562 -1.61161161 -1.60760761 -1.6036036  -1.5995996  -1.5955956\n",
      " -1.59159159 -1.58758759 -1.58358358 -1.57957958 -1.57557558 -1.57157157\n",
      " -1.56756757 -1.56356356 -1.55955956 -1.55555556 -1.55155155 -1.54754755\n",
      " -1.54354354 -1.53953954 -1.53553554 -1.53153153 -1.52752753 -1.52352352\n",
      " -1.51951952 -1.51551552 -1.51151151 -1.50750751 -1.5035035  -1.4994995\n",
      " -1.4954955  -1.49149149 -1.48748749 -1.48348348 -1.47947948 -1.47547548\n",
      " -1.47147147 -1.46746747 -1.46346346 -1.45945946 -1.45545546 -1.45145145\n",
      " -1.44744745 -1.44344344 -1.43943944 -1.43543544 -1.43143143 -1.42742743\n",
      " -1.42342342 -1.41941942 -1.41541542 -1.41141141 -1.40740741 -1.4034034\n",
      " -1.3993994  -1.3953954  -1.39139139 -1.38738739 -1.38338338 -1.37937938\n",
      " -1.37537538 -1.37137137 -1.36736737 -1.36336336 -1.35935936 -1.35535536\n",
      " -1.35135135 -1.34734735 -1.34334334 -1.33933934 -1.33533534 -1.33133133\n",
      " -1.32732733 -1.32332332 -1.31931932 -1.31531532 -1.31131131 -1.30730731\n",
      " -1.3033033  -1.2992993  -1.2952953  -1.29129129 -1.28728729 -1.28328328\n",
      " -1.27927928 -1.27527528 -1.27127127 -1.26726727 -1.26326326 -1.25925926\n",
      " -1.25525526 -1.25125125 -1.24724725 -1.24324324 -1.23923924 -1.23523524\n",
      " -1.23123123 -1.22722723 -1.22322322 -1.21921922 -1.21521522 -1.21121121\n",
      " -1.20720721 -1.2032032  -1.1991992  -1.1951952  -1.19119119 -1.18718719\n",
      " -1.18318318 -1.17917918 -1.17517518 -1.17117117 -1.16716717 -1.16316316\n",
      " -1.15915916 -1.15515516 -1.15115115 -1.14714715 -1.14314314 -1.13913914\n",
      " -1.13513514 -1.13113113 -1.12712713 -1.12312312 -1.11911912 -1.11511512\n",
      " -1.11111111 -1.10710711 -1.1031031  -1.0990991  -1.0950951  -1.09109109\n",
      " -1.08708709 -1.08308308 -1.07907908 -1.07507508 -1.07107107 -1.06706707\n",
      " -1.06306306 -1.05905906 -1.05505506 -1.05105105 -1.04704705 -1.04304304\n",
      " -1.03903904 -1.03503504 -1.03103103 -1.02702703 -1.02302302 -1.01901902\n",
      " -1.01501502 -1.01101101 -1.00700701 -1.003003   -0.998999   -0.99499499\n",
      " -0.99099099 -0.98698699 -0.98298298 -0.97897898 -0.97497497 -0.97097097\n",
      " -0.96696697 -0.96296296 -0.95895896 -0.95495495 -0.95095095 -0.94694695\n",
      " -0.94294294 -0.93893894 -0.93493493 -0.93093093 -0.92692693 -0.92292292\n",
      " -0.91891892 -0.91491491 -0.91091091 -0.90690691 -0.9029029  -0.8988989\n",
      " -0.89489489 -0.89089089 -0.88688689 -0.88288288 -0.87887888 -0.87487487\n",
      " -0.87087087 -0.86686687 -0.86286286 -0.85885886 -0.85485485 -0.85085085\n",
      " -0.84684685 -0.84284284 -0.83883884 -0.83483483 -0.83083083 -0.82682683\n",
      " -0.82282282 -0.81881882 -0.81481481 -0.81081081 -0.80680681 -0.8028028\n",
      " -0.7987988  -0.79479479 -0.79079079 -0.78678679 -0.78278278 -0.77877878\n",
      " -0.77477477 -0.77077077 -0.76676677 -0.76276276 -0.75875876 -0.75475475\n",
      " -0.75075075 -0.74674675 -0.74274274 -0.73873874 -0.73473473 -0.73073073\n",
      " -0.72672673 -0.72272272 -0.71871872 -0.71471471 -0.71071071 -0.70670671\n",
      " -0.7027027  -0.6986987  -0.69469469 -0.69069069 -0.68668669 -0.68268268\n",
      " -0.67867868 -0.67467467 -0.67067067 -0.66666667 -0.66266266 -0.65865866\n",
      " -0.65465465 -0.65065065 -0.64664665 -0.64264264 -0.63863864 -0.63463463\n",
      " -0.63063063 -0.62662663 -0.62262262 -0.61861862 -0.61461461 -0.61061061\n",
      " -0.60660661 -0.6026026  -0.5985986  -0.59459459 -0.59059059 -0.58658659\n",
      " -0.58258258 -0.57857858 -0.57457457 -0.57057057 -0.56656657 -0.56256256\n",
      " -0.55855856 -0.55455455 -0.55055055 -0.54654655 -0.54254254 -0.53853854\n",
      " -0.53453453 -0.53053053 -0.52652653 -0.52252252 -0.51851852 -0.51451451\n",
      " -0.51051051 -0.50650651 -0.5025025  -0.4984985  -0.49449449 -0.49049049\n",
      " -0.48648649 -0.48248248 -0.47847848 -0.47447447 -0.47047047 -0.46646647\n",
      " -0.46246246 -0.45845846 -0.45445445 -0.45045045 -0.44644645 -0.44244244\n",
      " -0.43843844 -0.43443443 -0.43043043 -0.42642643 -0.42242242 -0.41841842\n",
      " -0.41441441 -0.41041041 -0.40640641 -0.4024024  -0.3983984  -0.39439439\n",
      " -0.39039039 -0.38638639 -0.38238238 -0.37837838 -0.37437437 -0.37037037\n",
      " -0.36636637 -0.36236236 -0.35835836 -0.35435435 -0.35035035 -0.34634635\n",
      " -0.34234234 -0.33833834 -0.33433433 -0.33033033 -0.32632633 -0.32232232\n",
      " -0.31831832 -0.31431431 -0.31031031 -0.30630631 -0.3023023  -0.2982983\n",
      " -0.29429429 -0.29029029 -0.28628629 -0.28228228 -0.27827828 -0.27427427\n",
      " -0.27027027 -0.26626627 -0.26226226 -0.25825826 -0.25425425 -0.25025025\n",
      " -0.24624625 -0.24224224 -0.23823824 -0.23423423 -0.23023023 -0.22622623\n",
      " -0.22222222 -0.21821822 -0.21421421 -0.21021021 -0.20620621 -0.2022022\n",
      " -0.1981982  -0.19419419 -0.19019019 -0.18618619 -0.18218218 -0.17817818\n",
      " -0.17417417 -0.17017017 -0.16616617 -0.16216216 -0.15815816 -0.15415415\n",
      " -0.15015015 -0.14614615 -0.14214214 -0.13813814 -0.13413413 -0.13013013\n",
      " -0.12612613 -0.12212212 -0.11811812 -0.11411411 -0.11011011 -0.10610611\n",
      " -0.1021021  -0.0980981  -0.09409409 -0.09009009 -0.08608609 -0.08208208\n",
      " -0.07807808 -0.07407407 -0.07007007 -0.06606607 -0.06206206 -0.05805806\n",
      " -0.05405405 -0.05005005 -0.04604605 -0.04204204 -0.03803804 -0.03403403\n",
      " -0.03003003 -0.02602603 -0.02202202 -0.01801802 -0.01401401 -0.01001001\n",
      " -0.00600601 -0.002002    0.002002    0.00600601  0.01001001  0.01401401\n",
      "  0.01801802  0.02202202  0.02602603  0.03003003  0.03403403  0.03803804\n",
      "  0.04204204  0.04604605  0.05005005  0.05405405  0.05805806  0.06206206\n",
      "  0.06606607  0.07007007  0.07407407  0.07807808  0.08208208  0.08608609\n",
      "  0.09009009  0.09409409  0.0980981   0.1021021   0.10610611  0.11011011\n",
      "  0.11411411  0.11811812  0.12212212  0.12612613  0.13013013  0.13413413\n",
      "  0.13813814  0.14214214  0.14614615  0.15015015  0.15415415  0.15815816\n",
      "  0.16216216  0.16616617  0.17017017  0.17417417  0.17817818  0.18218218\n",
      "  0.18618619  0.19019019  0.19419419  0.1981982   0.2022022   0.20620621\n",
      "  0.21021021  0.21421421  0.21821822  0.22222222  0.22622623  0.23023023\n",
      "  0.23423423  0.23823824  0.24224224  0.24624625  0.25025025  0.25425425\n",
      "  0.25825826  0.26226226  0.26626627  0.27027027  0.27427427  0.27827828\n",
      "  0.28228228  0.28628629  0.29029029  0.29429429  0.2982983   0.3023023\n",
      "  0.30630631  0.31031031  0.31431431  0.31831832  0.32232232  0.32632633\n",
      "  0.33033033  0.33433433  0.33833834  0.34234234  0.34634635  0.35035035\n",
      "  0.35435435  0.35835836  0.36236236  0.36636637  0.37037037  0.37437437\n",
      "  0.37837838  0.38238238  0.38638639  0.39039039  0.39439439  0.3983984\n",
      "  0.4024024   0.40640641  0.41041041  0.41441441  0.41841842  0.42242242\n",
      "  0.42642643  0.43043043  0.43443443  0.43843844  0.44244244  0.44644645\n",
      "  0.45045045  0.45445445  0.45845846  0.46246246  0.46646647  0.47047047\n",
      "  0.47447447  0.47847848  0.48248248  0.48648649  0.49049049  0.49449449\n",
      "  0.4984985   0.5025025   0.50650651  0.51051051  0.51451451  0.51851852\n",
      "  0.52252252  0.52652653  0.53053053  0.53453453  0.53853854  0.54254254\n",
      "  0.54654655  0.55055055  0.55455455  0.55855856  0.56256256  0.56656657\n",
      "  0.57057057  0.57457457  0.57857858  0.58258258  0.58658659  0.59059059\n",
      "  0.59459459  0.5985986   0.6026026   0.60660661  0.61061061  0.61461461\n",
      "  0.61861862  0.62262262  0.62662663  0.63063063  0.63463463  0.63863864\n",
      "  0.64264264  0.64664665  0.65065065  0.65465465  0.65865866  0.66266266\n",
      "  0.66666667  0.67067067  0.67467467  0.67867868  0.68268268  0.68668669\n",
      "  0.69069069  0.69469469  0.6986987   0.7027027   0.70670671  0.71071071\n",
      "  0.71471471  0.71871872  0.72272272  0.72672673  0.73073073  0.73473473\n",
      "  0.73873874  0.74274274  0.74674675  0.75075075  0.75475475  0.75875876\n",
      "  0.76276276  0.76676677  0.77077077  0.77477477  0.77877878  0.78278278\n",
      "  0.78678679  0.79079079  0.79479479  0.7987988   0.8028028   0.80680681\n",
      "  0.81081081  0.81481481  0.81881882  0.82282282  0.82682683  0.83083083\n",
      "  0.83483483  0.83883884  0.84284284  0.84684685  0.85085085  0.85485485\n",
      "  0.85885886  0.86286286  0.86686687  0.87087087  0.87487487  0.87887888\n",
      "  0.88288288  0.88688689  0.89089089  0.89489489  0.8988989   0.9029029\n",
      "  0.90690691  0.91091091  0.91491491  0.91891892  0.92292292  0.92692693\n",
      "  0.93093093  0.93493493  0.93893894  0.94294294  0.94694695  0.95095095\n",
      "  0.95495495  0.95895896  0.96296296  0.96696697  0.97097097  0.97497497\n",
      "  0.97897898  0.98298298  0.98698699  0.99099099  0.99499499  0.998999\n",
      "  1.003003    1.00700701  1.01101101  1.01501502  1.01901902  1.02302302\n",
      "  1.02702703  1.03103103  1.03503504  1.03903904  1.04304304  1.04704705\n",
      "  1.05105105  1.05505506  1.05905906  1.06306306  1.06706707  1.07107107\n",
      "  1.07507508  1.07907908  1.08308308  1.08708709  1.09109109  1.0950951\n",
      "  1.0990991   1.1031031   1.10710711  1.11111111  1.11511512  1.11911912\n",
      "  1.12312312  1.12712713  1.13113113  1.13513514  1.13913914  1.14314314\n",
      "  1.14714715  1.15115115  1.15515516  1.15915916  1.16316316  1.16716717\n",
      "  1.17117117  1.17517518  1.17917918  1.18318318  1.18718719  1.19119119\n",
      "  1.1951952   1.1991992   1.2032032   1.20720721  1.21121121  1.21521522\n",
      "  1.21921922  1.22322322  1.22722723  1.23123123  1.23523524  1.23923924\n",
      "  1.24324324  1.24724725  1.25125125  1.25525526  1.25925926  1.26326326\n",
      "  1.26726727  1.27127127  1.27527528  1.27927928  1.28328328  1.28728729\n",
      "  1.29129129  1.2952953   1.2992993   1.3033033   1.30730731  1.31131131\n",
      "  1.31531532  1.31931932  1.32332332  1.32732733  1.33133133  1.33533534\n",
      "  1.33933934  1.34334334  1.34734735  1.35135135  1.35535536  1.35935936\n",
      "  1.36336336  1.36736737  1.37137137  1.37537538  1.37937938  1.38338338\n",
      "  1.38738739  1.39139139  1.3953954   1.3993994   1.4034034   1.40740741\n",
      "  1.41141141  1.41541542  1.41941942  1.42342342  1.42742743  1.43143143\n",
      "  1.43543544  1.43943944  1.44344344  1.44744745  1.45145145  1.45545546\n",
      "  1.45945946  1.46346346  1.46746747  1.47147147  1.47547548  1.47947948\n",
      "  1.48348348  1.48748749  1.49149149  1.4954955   1.4994995   1.5035035\n",
      "  1.50750751  1.51151151  1.51551552  1.51951952  1.52352352  1.52752753\n",
      "  1.53153153  1.53553554  1.53953954  1.54354354  1.54754755  1.55155155\n",
      "  1.55555556  1.55955956  1.56356356  1.56756757  1.57157157  1.57557558\n",
      "  1.57957958  1.58358358  1.58758759  1.59159159  1.5955956   1.5995996\n",
      "  1.6036036   1.60760761  1.61161161  1.61561562  1.61961962  1.62362362\n",
      "  1.62762763  1.63163163  1.63563564  1.63963964  1.64364364  1.64764765\n",
      "  1.65165165  1.65565566  1.65965966  1.66366366  1.66766767  1.67167167\n",
      "  1.67567568  1.67967968  1.68368368  1.68768769  1.69169169  1.6956957\n",
      "  1.6996997   1.7037037   1.70770771  1.71171171  1.71571572  1.71971972\n",
      "  1.72372372  1.72772773  1.73173173  1.73573574  1.73973974  1.74374374\n",
      "  1.74774775  1.75175175  1.75575576  1.75975976  1.76376376  1.76776777\n",
      "  1.77177177  1.77577578  1.77977978  1.78378378  1.78778779  1.79179179\n",
      "  1.7957958   1.7997998   1.8038038   1.80780781  1.81181181  1.81581582\n",
      "  1.81981982  1.82382382  1.82782783  1.83183183  1.83583584  1.83983984\n",
      "  1.84384384  1.84784785  1.85185185  1.85585586  1.85985986  1.86386386\n",
      "  1.86786787  1.87187187  1.87587588  1.87987988  1.88388388  1.88788789\n",
      "  1.89189189  1.8958959   1.8998999   1.9039039   1.90790791  1.91191191\n",
      "  1.91591592  1.91991992  1.92392392  1.92792793  1.93193193  1.93593594\n",
      "  1.93993994  1.94394394  1.94794795  1.95195195  1.95595596  1.95995996\n",
      "  1.96396396  1.96796797  1.97197197  1.97597598  1.97997998  1.98398398\n",
      "  1.98798799  1.99199199  1.995996    2.        ]\n"
     ]
    }
   ],
   "source": [
    "D = linspace(-2, 2, 1000)\n",
    "print(D)"
   ]
  },
  {
   "cell_type": "markdown",
   "metadata": {},
   "source": [
    "A partire da ogni punto del dominio possiamo calcolare ogni valore di $y=f(x)$ per ogni $x\\in D$. Dobbiamo prima definire qual'è la funzione di cui vogliamo visualizzare il grafico. Consideriamo prima la funzione:\n",
    "\n",
    "$$f(x) = x^2$$\n",
    "\n",
    "Che può essere implementata in modo diretto con la procedura (usando l'operatore `**` SPIEGARE):"
   ]
  },
  {
   "cell_type": "code",
   "execution_count": 7,
   "metadata": {
    "collapsed": true
   },
   "outputs": [],
   "source": [
    "def Quadrato(x):\n",
    "    return x**2"
   ]
  },
  {
   "cell_type": "markdown",
   "metadata": {},
   "source": [
    "A questo punto ci serve un modo per applicare questa procedura (funzione matematica) ad ogni elemento del dominio di $f(x)$. Per far questo possiamo usare una sintassi particolare, chiamata **list comprehension**, definita come segue:\n",
    "\n",
    "```\n",
    "Y = [F(x) for x in D]\n",
    "```\n",
    "\n",
    "in cui `<for>` e `<in>` sono due parole chiave di Python, mentre `<F>`, `<D>`, e `<Y>` sono:\n",
    "\n",
    "1. (input) `F()` è una procedura che implementa una funzione $f : \\mathbb{R} \\rightarrow \\mathbb{R}$, come ad esempio la funzione `Quadrato` definita sopra.\n",
    "\n",
    "2. (input) `D` è una sequenza di numeri a cui vogliamo applicare la funzione `F` data in input, ottenuta per esempio con la funzione `linspace`.\n",
    "\n",
    "3. (output) `Y` è una sequenza di numeri, della stessa lunghezza di `D`, che contiene per ogni elemento `x` in `D`, il valore `F(x)`. \n",
    "\n",
    "Vediamo un semplice esempio concreto:"
   ]
  },
  {
   "cell_type": "code",
   "execution_count": 5,
   "metadata": {
    "collapsed": false
   },
   "outputs": [
    {
     "name": "stdout",
     "output_type": "stream",
     "text": [
      "[ 1.  2.  3.  4.  5.]\n"
     ]
    }
   ],
   "source": [
    "D = linspace(1,5,5)\n",
    "print(D)"
   ]
  },
  {
   "cell_type": "code",
   "execution_count": 8,
   "metadata": {
    "collapsed": false
   },
   "outputs": [
    {
     "name": "stdout",
     "output_type": "stream",
     "text": [
      "[1.0, 4.0, 9.0, 16.0, 25.0]\n"
     ]
    }
   ],
   "source": [
    "Y = [Quadrato(x) for x in D]\n",
    "print(Y)"
   ]
  },
  {
   "cell_type": "markdown",
   "metadata": {},
   "source": [
    "Come si può vedere ad ogni elemento della sequenza `D` corrisponde un valore della sequenza `Y`, che contiene il suo quadrato. Potremmo usare questi punti per interpolare un grafico di questa funzione, ma per ottenere un'interpolazione accurata, dovremmo utilizzare un numero più elevato di elementi del dominio.\n",
    "\n",
    "Se ritorniamo all'esempio di Figura 3.8 del Giaquinta-Modica, possiamo definire le coppie da rappresentare $(x, y=f(x))$ nel modo seguente:"
   ]
  },
  {
   "cell_type": "code",
   "execution_count": 9,
   "metadata": {
    "collapsed": true
   },
   "outputs": [],
   "source": [
    "D = linspace(-2,2,1000) # 1000 punti equidistanziati nell'intervallo [-2,2]"
   ]
  },
  {
   "cell_type": "code",
   "execution_count": 10,
   "metadata": {
    "collapsed": true
   },
   "outputs": [],
   "source": [
    "Y = [Quadrato(x) for x in D]"
   ]
  },
  {
   "cell_type": "code",
   "execution_count": null,
   "metadata": {
    "collapsed": false
   },
   "outputs": [],
   "source": [
    "print(D[0], Y[0])"
   ]
  },
  {
   "cell_type": "markdown",
   "metadata": {},
   "source": [
    "Vediamo ora come utilizzare questi punti per creare un grafico di `Quadrato(x)`. \n",
    "\n",
    "Per poterlo fare dobbiamo utilizzare le funzione:\n",
    "\n",
    "* `plot(x,y)`: prepara il grafico per ogni coppia di punti contenuti nelle due sequenza (della stessa lunghezza) x e y.\n",
    "* `xlabel` e `ylabel`: servono per definire la descrizione dell'asse delle ascisse e delle ordinate\n",
    "* `show`: serve per visualizzare effettivamente il grafico appena definito\n",
    "\n",
    "Per maggiori dettagli, si veda la documentazione di [plot](http://matplotlib.org/api/_as_gen/matplotlib.pyplot.plot.html), [xlabel](https://matplotlib.org/devdocs/api/_as_gen/matplotlib.pyplot.xlabel.html), [ylabel](https://matplotlib.org/devdocs/api/_as_gen/matplotlib.pyplot.ylabel.html) e [show](https://matplotlib.org/devdocs/api/_as_gen/matplotlib.pyplot.show.html).\n",
    "\n",
    "Utilizzando questi comandi, possiamo facilmente rappresentare graficamente la funzione $x^2$:"
   ]
  },
  {
   "cell_type": "code",
   "execution_count": 11,
   "metadata": {
    "collapsed": false
   },
   "outputs": [
    {
     "data": {
      "image/png": "[encoded data removed]",
      "text/plain": [
       "<matplotlib.figure.Figure at 0x25fa52c55c0>"
      ]
     },
     "metadata": {},
     "output_type": "display_data"
    }
   ],
   "source": [
    "plot(D,Y)\n",
    "xlabel(\"x\")\n",
    "ylabel(\"y=f(x)=x^2\")\n",
    "show()"
   ]
  },
  {
   "cell_type": "markdown",
   "metadata": {},
   "source": [
    "Se invece di rapresentare la funzione $f(x)=x^2$ volessimo rappresentare la funzione $f(x)=x^3$, definita nello stesso dominio, ci basta calcolare la sequenza di numeri `Y`:"
   ]
  },
  {
   "cell_type": "code",
   "execution_count": 12,
   "metadata": {
    "collapsed": true
   },
   "outputs": [],
   "source": [
    "Y = [x*x*x for x in D]"
   ]
  },
  {
   "cell_type": "code",
   "execution_count": 13,
   "metadata": {
    "collapsed": false
   },
   "outputs": [
    {
     "data": {
      "image/png": "[encoded data removed]",
      "text/plain": [
       "<matplotlib.figure.Figure at 0x25fa5c12c88>"
      ]
     },
     "metadata": {},
     "output_type": "display_data"
    }
   ],
   "source": [
    "plot(D,Y)\n",
    "xlabel(\"x\")\n",
    "ylabel(\"y=f(x)=x^3\")\n",
    "show()"
   ]
  },
  {
   "cell_type": "markdown",
   "metadata": {},
   "source": [
    "Di solito quello che si vuole fare è di sovrapporre sullo stesso grafico funzioni tra di loro simili, ma che sono definite da parametri diversi. Se consideriamo la funzione potenza $f(x)=x^n$ per $x \\in D$, potremmo voler dare una rappresentazione grafica dell quattro funzioni che si ottengono per $n \\in \\{1,2,3,4\\}$. Questo può essere ottenuto in python richiamando più volte la funzione `plot(x,y)`, prima di chiamare la funzione `show()`.\n",
    "\n",
    "**ESEMPIO:** (diverse funzioni sullo stesso plot)"
   ]
  },
  {
   "cell_type": "code",
   "execution_count": 14,
   "metadata": {
    "collapsed": false
   },
   "outputs": [
    {
     "data": {
      "image/png": "[encoded data removed]",
      "text/plain": [
       "<matplotlib.figure.Figure at 0x25fa574cef0>"
      ]
     },
     "metadata": {},
     "output_type": "display_data"
    }
   ],
   "source": [
    "D = linspace(-2, 2, 1000)\n",
    "plot(D, [x**1 for x in D])\n",
    "plot(D, [x**2 for x in D])\n",
    "plot(D, [x**3 for x in D])\n",
    "plot(D, [x**4 for x in D])\n",
    "xlabel(\"x\")\n",
    "ylabel(\"y=f(x)=x^n\")\n",
    "show()"
   ]
  },
  {
   "cell_type": "markdown",
   "metadata": {},
   "source": [
    "Infine, può essere interessante a volte rappresentare una funzione in scala logaritmica su entrambi gli assi, oppure, può essere utile aggiungere una legenda al grafico, per poter distinguere facilmente le diverse funzioni rappresentate.\n",
    "\n",
    "Per maggiori dettagli, si veda la documentazione di [legend](https://matplotlib.org/devdocs/api/_as_gen/matplotlib.pyplot.legend.html), [xscale](https://matplotlib.org/devdocs/api/_as_gen/matplotlib.pyplot.xscale.html) e[yscale](https://matplotlib.org/devdocs/api/_as_gen/matplotlib.pyplot.yscale.html).\n",
    "\n",
    "**ESEMPIO:** (coordinate cartesiane e legenda)"
   ]
  },
  {
   "cell_type": "code",
   "execution_count": 15,
   "metadata": {
    "collapsed": false
   },
   "outputs": [
    {
     "data": {
      "image/png": "[encoded data removed]",
      "text/plain": [
       "<matplotlib.figure.Figure at 0x25fa5c12be0>"
      ]
     },
     "metadata": {},
     "output_type": "display_data"
    }
   ],
   "source": [
    "from matplotlib.pyplot import xscale, yscale, legend\n",
    "D = linspace(0.01, 100, 1000)\n",
    "plot(D, [x**1 for x in D], label=\"y=x\")\n",
    "plot(D, [x**2 for x in D], label=\"y=x^2\")\n",
    "plot(D, [x**3 for x in D], label=\"y=x^3\")\n",
    "plot(D, [x**4 for x in D], label=\"y=x^4\")\n",
    "xscale(\"log\")\n",
    "yscale(\"log\")\n",
    "xlabel(\"x - log scale\")\n",
    "ylabel(\"y=f(x)=x^n - log scale\")\n",
    "legend(loc=\"upper left\", shadow=True)\n",
    "show()"
   ]
  },
  {
   "cell_type": "markdown",
   "metadata": {},
   "source": [
    "## Funzioni trigonometriche\n",
    "Per poter rappresentare delle funzioni trigonometriche, è necessario utilizzare una terza libreria di Python (abbiamo già usato `numpy` e `matplotlib`), chiamata `math`, che definisce tutte le costanti (e.g. $\\pi$ e $e$) e le funzioni matematiche (e.g. $\\sin(x)$, $\\log(x)$, $e^x$, sqrt$(x)=\\sqrt(x)$, ...) di uso comune. Per la lista completa di funzioni implementate, consulare la [documentazione della libreria *math*](https://docs.python.org/3/library/math.html).\n",
    "\n",
    "**ESEMPIO:** plot della funzione $f(x)=a\\,sin(x)$, per $a=0.5,1,3$, nel dominio $[0,2 \\pi]$."
   ]
  },
  {
   "cell_type": "code",
   "execution_count": null,
   "metadata": {
    "collapsed": false
   },
   "outputs": [],
   "source": [
    "# Per prima cosa importo la funzione sin(x) e la costante pi (pi-greco)\n",
    "from math import sin, pi\n",
    "print(pi)"
   ]
  },
  {
   "cell_type": "code",
   "execution_count": null,
   "metadata": {
    "collapsed": false
   },
   "outputs": [],
   "source": [
    "# Poi scrivo i comandi per ottenere i grafici voluti\n",
    "D = linspace(0, 2*pi, 1000)\n",
    "plot(D, [0.5*sin(x) for x in D], label=\"y=0.5*sin(x)\")\n",
    "plot(D, [1.0*sin(x) for x in D], label=\"y=1.0*sin(x)\")\n",
    "plot(D, [3.0*sin(x) for x in D], label=\"y=2.0*sin(x)\")\n",
    "xlabel(\"x\")\n",
    "ylabel(\"y=f(x)=a sin(x)\")\n",
    "legend(loc=\"upper right\", shadow=True)\n",
    "show()"
   ]
  },
  {
   "cell_type": "markdown",
   "metadata": {},
   "source": [
    "**ESERCIZIO 5.1:** Rappresentare il grafico della funzione esponenziale $a^x$, nell'intervallo $[-4,4]$, utilizzando i seguenti valori di $a$: 1.2, 1.4 2 (sovrapporre i grafici nella stessa figura). (Nota: si dovrebbe ottenere un grafico simile a quello di Figura 3.19a in X).\n"
   ]
  },
  {
   "cell_type": "code",
   "execution_count": null,
   "metadata": {
    "collapsed": true
   },
   "outputs": [],
   "source": []
  },
  {
   "cell_type": "markdown",
   "metadata": {},
   "source": [
    "**ESERCIZIO 5.2:** Rappresentare il grafico della funzione esponenziale $a^x$, nell'intervallo $[-4,4]$, utilizzando i seguenti valori di $a$: 0.8, 0.7, 0.5 (sovrapporre i grafici nella stessa figura). (Nota: si dovrebbe ottenere un grafico simile a quello di Figura 3.19b in X)."
   ]
  },
  {
   "cell_type": "code",
   "execution_count": null,
   "metadata": {
    "collapsed": true
   },
   "outputs": [],
   "source": []
  },
  {
   "cell_type": "markdown",
   "metadata": {},
   "source": [
    "**ESERCIZIO 5.3:** Rappresentare il grafico della funzione tangente nell'intervallo $[-4 \\pi, 4 \\pi]$."
   ]
  },
  {
   "cell_type": "code",
   "execution_count": null,
   "metadata": {
    "collapsed": true
   },
   "outputs": [],
   "source": []
  }
 ],
 "metadata": {
  "kernelspec": {
   "display_name": "Python [default]",
   "language": "python",
   "name": "python3"
  },
  "language_info": {
   "codemirror_mode": {
    "name": "ipython",
    "version": 3
   },
   "file_extension": ".py",
   "mimetype": "text/x-python",
   "name": "python",
   "nbconvert_exporter": "python",
   "pygments_lexer": "ipython3",
   "version": "3.5.3"
  }
 },
 "nbformat": 4,
 "nbformat_minor": 2
}
